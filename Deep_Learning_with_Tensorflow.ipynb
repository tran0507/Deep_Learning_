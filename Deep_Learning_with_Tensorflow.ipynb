{
  "cells": [
    {
      "cell_type": "markdown",
      "metadata": {
        "id": "JZNT-Tz4ntRw"
      },
      "source": [
        "# Classification with Neural Networks in TensorFlow\n",
        "Courtesy: https://github.com/mrdbourke"
      ]
    },
    {
      "cell_type": "markdown",
      "metadata": {
        "id": "OY5HO72ATJR4"
      },
      "source": [
        "## How a deep neural network learns\n",
        "\n",
        "A model learns by updating and improving its weights and biases every epoch (when we call the `fit()` function).\n",
        "\n",
        "It does so by comparing the patterns its learned between the data and labels to the actual labels.\n",
        "\n",
        "If the current patterns (weight matrices and bias values) don't result in a desirable decrease in the loss function (higher loss means worse predictions), the optimizer tries to steer the model to update its patterns in the right way (using the real labels as a reference).\n",
        "\n",
        "This process of using the real labels as a reference to improve the model's predictions is called [**backpropagation**](https://en.wikipedia.org/wiki/Backpropagation).\n",
        "\n",
        "In other words, data and labels pass through a model (**forward pass**) and it attempts to learn the relationship between the data and labels.\n",
        "\n",
        "If this learned relationship isn't close to the actual relationship or it could be improved, the model does so by going back through itself (**backward pass**) and tweaking its weights and bias values to better represent the data.\n"
      ]
    },
    {
      "cell_type": "markdown",
      "source": [
        "## Import the Necessary Libraries"
      ],
      "metadata": {
        "id": "eaEAE7RaPiW8"
      }
    },
    {
      "cell_type": "code",
      "source": [
        "import pandas as pd\n",
        "import numpy as np\n",
        "import matplotlib.pyplot as plt\n",
        "import seaborn as sns\n",
        "\n",
        "#to scale the data using z-score\n",
        "from sklearn.preprocessing import StandardScaler\n",
        "\n",
        "#to split the dataset\n",
        "from sklearn.model_selection import train_test_split\n",
        "\n",
        "#Metrics to evaluate the model\n",
        "from sklearn.metrics import confusion_matrix, classification_report, accuracy_score\n",
        "\n",
        "#to ignore warnings\n",
        "import warnings\n",
        "warnings.filterwarnings(\"ignore\")"
      ],
      "metadata": {
        "id": "rCwOY17CeFJ_"
      },
      "execution_count": 18,
      "outputs": []
    },
    {
      "cell_type": "code",
      "execution_count": 19,
      "metadata": {
        "colab": {
          "base_uri": "https://localhost:8080/"
        },
        "id": "IPWQMjYwKpCH",
        "outputId": "2f46572e-7d14-44ce-acac-89fac832a27c"
      },
      "outputs": [
        {
          "output_type": "stream",
          "name": "stdout",
          "text": [
            "2.15.0\n"
          ]
        }
      ],
      "source": [
        "import tensorflow as tf\n",
        "print(tf.__version__)"
      ]
    },
    {
      "cell_type": "markdown",
      "source": [
        "## Import and Prep the data for Modelling"
      ],
      "metadata": {
        "id": "L_Ehhsi0OQ8U"
      }
    },
    {
      "cell_type": "code",
      "source": [
        "#read the dataset\n",
        "df = pd.read_csv('employee_attrition.csv')"
      ],
      "metadata": {
        "id": "lbUWAgNxd9gg"
      },
      "execution_count": 20,
      "outputs": []
    },
    {
      "cell_type": "code",
      "source": [
        "#Separating target variable and other variables\n",
        "Y= df.Attrition\n",
        "X= df.drop(columns = ['Attrition'])"
      ],
      "metadata": {
        "id": "__GuDohueYiR"
      },
      "execution_count": 21,
      "outputs": []
    },
    {
      "cell_type": "code",
      "source": [
        "#Scaling the data\n",
        "sc=StandardScaler()\n",
        "X_scaled=sc.fit_transform(X)\n",
        "X_scaled=pd.DataFrame(X_scaled, columns=X.columns)"
      ],
      "metadata": {
        "id": "5gV60Td1fLZ2"
      },
      "execution_count": 22,
      "outputs": []
    },
    {
      "cell_type": "code",
      "source": [
        "#splitting the data\n",
        "x_train,x_test,y_train,y_test=train_test_split(X_scaled,Y,test_size=0.2,random_state=1,stratify=Y)"
      ],
      "metadata": {
        "id": "RjQZbRe7k_vN"
      },
      "execution_count": 23,
      "outputs": []
    },
    {
      "cell_type": "markdown",
      "metadata": {
        "id": "ucRDjFFCJ92X"
      },
      "source": [
        "# Architecture of a classification neural network\n",
        "\n",
        "\n",
        "\n",
        "| **Hyperparameter** | **Binary Classification** | **Multiclass classification** |\n",
        "| --- | --- | --- |\n",
        "| Input layer shape | Same as number of features (e.g. 5 for age, sex, height, weight, smoking status in heart disease prediction) | Same as binary classification |\n",
        "| Hidden layer(s) | Problem specific, minimum = 1, maximum = unlimited | Same as binary classification |\n",
        "| Neurons per hidden layer | Problem specific, generally 10 to 100 | Same as binary classification |\n",
        "| Output layer shape | 1 (one class or the other) | 1 per class (e.g. 3 for food, person or dog photo) |\n",
        "| Hidden activation | Usually [ReLU](https://www.kaggle.com/dansbecker/rectified-linear-units-relu-in-deep-learning) (rectified linear unit) | Same as binary classification |\n",
        "| Output activation | [Sigmoid](https://en.wikipedia.org/wiki/Sigmoid_function) | [Softmax](https://en.wikipedia.org/wiki/Softmax_function) |\n",
        "| Loss function | [Cross entropy](https://en.wikipedia.org/wiki/Cross_entropy#Cross-entropy_loss_function_and_logistic_regression) ([`tf.keras.losses.BinaryCrossentropy`](https://www.tensorflow.org/api_docs/python/tf/keras/losses/BinaryCrossentropy) in TensorFlow) | Cross entropy ([`tf.keras.losses.CategoricalCrossentropy`](https://www.tensorflow.org/api_docs/python/tf/keras/losses/CategoricalCrossentropy) in TensorFlow) |\n",
        "| Optimizer | [SGD](https://www.tensorflow.org/api_docs/python/tf/keras/optimizers/SGD) (stochastic gradient descent), [Adam](https://www.tensorflow.org/api_docs/python/tf/keras/optimizers/Adam) | Same as binary classification |\n"
      ]
    },
    {
      "cell_type": "markdown",
      "source": [
        "[**Sequential API**](https://www.tensorflow.org/api_docs/python/tf/keras/Sequential) - The Sequential API is the simplest and most straightforward way to build neural networks in TensorFlow. It allows you to create models layer by layer, where each layer is added in sequence.\n",
        "\n",
        "* When using the Sequential API in TensorFlow, you don't need to specify the input layer or the number of neurons in the input layer. The input layer is automatically created based on the shape of the input data."
      ],
      "metadata": {
        "id": "YpoNqyx1mDPF"
      }
    },
    {
      "cell_type": "code",
      "source": [
        "# set a fixed random seed for the model's weight initialization\n",
        "tf.keras.utils.set_random_seed(42)\n",
        "\n",
        "# 1. Create the model using the Sequential API\n",
        "model_1 = tf.keras.Sequential([\n",
        "  tf.keras.layers.Dense(1) #output layer\n",
        "])\n",
        "\n",
        "# 2. Compile the model\n",
        "model_1.compile(loss=tf.keras.losses.BinaryCrossentropy(), # binary since we are working with 2 clases (0 & 1)\n",
        "                optimizer=tf.keras.optimizers.SGD(),\n",
        "                metrics=['accuracy'])\n",
        "\n",
        "# 3. Fit the model\n",
        "model_1.fit(x_train, y_train, epochs=5,verbose=0)\n",
        "model_1.evaluate(x_train, y_train)"
      ],
      "metadata": {
        "colab": {
          "base_uri": "https://localhost:8080/"
        },
        "id": "dGQ3sotnl5oB",
        "outputId": "3cb5e368-955a-4f27-f88a-68e78842928e"
      },
      "execution_count": 33,
      "outputs": [
        {
          "output_type": "stream",
          "name": "stdout",
          "text": [
            "74/74 [==============================] - 0s 1ms/step - loss: 6.5598 - accuracy: 0.5591\n"
          ]
        },
        {
          "output_type": "execute_result",
          "data": {
            "text/plain": [
              "[6.5597710609436035, 0.5590986609458923]"
            ]
          },
          "metadata": {},
          "execution_count": 33
        }
      ]
    },
    {
      "cell_type": "markdown",
      "source": [
        "Looking at the accuracy metric, our model performs poorly (55% accuracy on a binary classification problem is almost guessing). What if we trained it for longer?"
      ],
      "metadata": {
        "id": "GAvODnElm1Jd"
      }
    },
    {
      "cell_type": "markdown",
      "metadata": {
        "id": "wyTs6QgijF6_"
      },
      "source": [
        "# Improving a model\n",
        "\n",
        "\n",
        "To improve a model, few ways you can tune the model:\n",
        "\n",
        "1. Add more layers\n",
        "2. Increase the number of neurons\n",
        "3. Change the optimization function\n",
        "4. Change the activation functions\n",
        "5. Fit on more data\n",
        "6. Fit for more epochs\n",
        "7. Change the Learning rate\n",
        "\n",
        "> You can think of the **learning rate** as how quickly a model learns. The higher the learning rate, the faster the model's capacity to learn, however, when the learning rate is too high, the model tries to learn too fast and doesn't learn anything.\n",
        "\n"
      ]
    },
    {
      "cell_type": "markdown",
      "source": [
        "## Model with more epochs"
      ],
      "metadata": {
        "id": "dXVVf5Dlp6Tw"
      }
    },
    {
      "cell_type": "code",
      "source": [
        "# set a fixed random seed for the model's weight initialization\n",
        "tf.keras.utils.set_random_seed(42)\n",
        "\n",
        "# Train our model for longer (more chances to look at the data)\n",
        "history = model_1.fit(x_train, y_train, epochs=100, verbose=0) # set verbose=0 to remove training updates\n",
        "model_1.evaluate(x_train, y_train)"
      ],
      "metadata": {
        "colab": {
          "base_uri": "https://localhost:8080/"
        },
        "id": "SRZAR0cunFfU",
        "outputId": "9af82001-3450-4ec5-b6a7-8e4d5df160fd"
      },
      "execution_count": 37,
      "outputs": [
        {
          "output_type": "stream",
          "name": "stdout",
          "text": [
            "74/74 [==============================] - 0s 1ms/step - loss: 5.1652 - accuracy: 0.6573\n"
          ]
        },
        {
          "output_type": "execute_result",
          "data": {
            "text/plain": [
              "[5.165218353271484, 0.6573129296302795]"
            ]
          },
          "metadata": {},
          "execution_count": 37
        }
      ]
    },
    {
      "cell_type": "markdown",
      "source": [
        "We can keep increasing the number of epochs and test for accuracy."
      ],
      "metadata": {
        "id": "QgBAvCJuUlWW"
      }
    },
    {
      "cell_type": "markdown",
      "source": [
        "## Model with extra layer"
      ],
      "metadata": {
        "id": "ZGoYk2yJrIJ_"
      }
    },
    {
      "cell_type": "code",
      "source": [
        "# add an extra layer.\n",
        "\n",
        "# set a fixed random seed for the model's weight initialization\n",
        "tf.keras.utils.set_random_seed(42)\n",
        "\n",
        "# set model_1 to None\n",
        "model_1 = None\n",
        "\n",
        "# 1. Create the model (same as model_1 but with an extra layer)\n",
        "model_1 = tf.keras.Sequential([\n",
        "  tf.keras.layers.Dense(1), # add an extra layer\n",
        "  tf.keras.layers.Dense(1) # output layer\n",
        "])\n",
        "\n",
        "# 2. Compile the model\n",
        "model_1.compile(loss=tf.keras.losses.BinaryCrossentropy(),\n",
        "                optimizer=tf.keras.optimizers.SGD(),\n",
        "                metrics=['accuracy'])\n",
        "\n",
        "# 3. Fit the model\n",
        "model_1.fit(x_train, y_train, epochs=50,verbose=0)\n",
        "model_1.evaluate(x_train, y_train)"
      ],
      "metadata": {
        "colab": {
          "base_uri": "https://localhost:8080/"
        },
        "id": "iPrE9BhBqA78",
        "outputId": "7ea70005-621d-40f9-c324-e883b8a1e7dc"
      },
      "execution_count": 41,
      "outputs": [
        {
          "output_type": "stream",
          "name": "stdout",
          "text": [
            "74/74 [==============================] - 0s 1ms/step - loss: 2.4856 - accuracy: 0.8389\n"
          ]
        },
        {
          "output_type": "execute_result",
          "data": {
            "text/plain": [
              "[2.485567569732666, 0.8388605713844299]"
            ]
          },
          "metadata": {},
          "execution_count": 41
        }
      ]
    },
    {
      "cell_type": "markdown",
      "source": [
        "## Model with more Neurons"
      ],
      "metadata": {
        "id": "1rbBmoVWsUvl"
      }
    },
    {
      "cell_type": "markdown",
      "source": [
        "Let's add neurons in the hidden layer"
      ],
      "metadata": {
        "id": "u-uA5A6wsiT7"
      }
    },
    {
      "cell_type": "code",
      "source": [
        "# set a fixed random seed for the model's weight initialization\n",
        "tf.keras.utils.set_random_seed(42)\n",
        "\n",
        "# set model_1 to None\n",
        "model_1 = None\n",
        "\n",
        "# 1. Create the model (same as model_1 but with an extra layer)\n",
        "model_1 = tf.keras.Sequential([\n",
        "  tf.keras.layers.Dense(2),\n",
        "  tf.keras.layers.Dense(1) # output layer\n",
        "])\n",
        "\n",
        "# 2. Compile the model\n",
        "model_1.compile(loss=tf.keras.losses.BinaryCrossentropy(),\n",
        "                optimizer=tf.keras.optimizers.SGD(),\n",
        "                metrics=['accuracy'])\n",
        "\n",
        "# 3. Fit the model\n",
        "model_1.fit(x_train, y_train, epochs=50,verbose=0)\n",
        "model_1.evaluate(x_train, y_train)"
      ],
      "metadata": {
        "colab": {
          "base_uri": "https://localhost:8080/"
        },
        "id": "ztk9zdoyG-od",
        "outputId": "b4b18e1d-82f9-427f-9686-48c2c9db8b5c"
      },
      "execution_count": 42,
      "outputs": [
        {
          "output_type": "stream",
          "name": "stdout",
          "text": [
            "74/74 [==============================] - 0s 1ms/step - loss: 5.0937 - accuracy: 0.6645\n"
          ]
        },
        {
          "output_type": "execute_result",
          "data": {
            "text/plain": [
              "[5.0937418937683105, 0.6645408272743225]"
            ]
          },
          "metadata": {},
          "execution_count": 42
        }
      ]
    },
    {
      "cell_type": "markdown",
      "source": [
        "Adding more neurons to a hidden layer can sometimes decrease the accuracy of a model due to **overfitting**. Keep the neuron 1 and add new layer with 1 neuron."
      ],
      "metadata": {
        "id": "-sYkngUHPds-"
      }
    },
    {
      "cell_type": "code",
      "source": [
        "# set a fixed random seed for the model's weight initialization\n",
        "tf.keras.utils.set_random_seed(42)\n",
        "\n",
        "# set model_1 to None\n",
        "model_1 = None\n",
        "\n",
        "# 1. Create the model (same as model_1 but with an extra layer)\n",
        "model_1 = tf.keras.Sequential([\n",
        "  tf.keras.layers.Dense(1),\n",
        "  tf.keras.layers.Dense(1), # add another layer with 1 neuron\n",
        "  tf.keras.layers.Dense(1) # output layer\n",
        "])\n",
        "\n",
        "# 2. Compile the model\n",
        "model_1.compile(loss=tf.keras.losses.BinaryCrossentropy(),\n",
        "                optimizer=tf.keras.optimizers.SGD(),\n",
        "                metrics=['accuracy'])\n",
        "\n",
        "# 3. Fit the model\n",
        "model_1.fit(x_train, y_train, epochs=50,verbose=0)\n",
        "model_1.evaluate(x_train, y_train)\n",
        "\n",
        "\n"
      ],
      "metadata": {
        "colab": {
          "base_uri": "https://localhost:8080/"
        },
        "id": "m9clnr7nuRKR",
        "outputId": "ac652bd3-ad5b-4884-9052-eed48eb6ce01"
      },
      "execution_count": 44,
      "outputs": [
        {
          "output_type": "stream",
          "name": "stdout",
          "text": [
            "74/74 [==============================] - 0s 1ms/step - loss: 7.4533 - accuracy: 0.5119\n"
          ]
        },
        {
          "output_type": "execute_result",
          "data": {
            "text/plain": [
              "[7.453317642211914, 0.511904776096344]"
            ]
          },
          "metadata": {},
          "execution_count": 44
        }
      ]
    },
    {
      "cell_type": "markdown",
      "source": [
        "The accuracy seems to be dropping. Revert back to the best model and try tuning the learning rate."
      ],
      "metadata": {
        "id": "i7Oj4beBZof3"
      }
    },
    {
      "cell_type": "markdown",
      "source": [
        "## Model with new Learning Rate\n",
        "Read more about Learning Rate here: [Learning rate explained](https://medium.com/@swapnilin/learning-rate-hyperparameter-explained-2c1a619cbd33)"
      ],
      "metadata": {
        "id": "BLkB0gsswAvl"
      }
    },
    {
      "cell_type": "code",
      "source": [
        "# The learning rate. Defaults to 0.001\n",
        "\n",
        "# set a fixed random seed for the model's weight initialization\n",
        "tf.keras.utils.set_random_seed(42)\n",
        "\n",
        "# set model_1 to None\n",
        "model_1 = None\n",
        "\n",
        "# 1. Create the model (same as model_1 but with an extra layer)\n",
        "model_1 = tf.keras.Sequential([\n",
        "  tf.keras.layers.Dense(1), # add an extra layer\n",
        "  tf.keras.layers.Dense(1) # output layer\n",
        "])\n",
        "\n",
        "# 2. Compile the model\n",
        "model_1.compile(loss=tf.keras.losses.BinaryCrossentropy(),\n",
        "                optimizer=tf.keras.optimizers.SGD(learning_rate=0.0009),\n",
        "                metrics=['accuracy'])\n",
        "\n",
        "# 3. Fit the model\n",
        "model_1.fit(x_train, y_train, epochs=50,verbose=0)\n",
        "model_1.evaluate(x_train, y_train)"
      ],
      "metadata": {
        "colab": {
          "base_uri": "https://localhost:8080/"
        },
        "id": "RbidPGF8ZzKg",
        "outputId": "4ae68bda-c7be-4450-b6bb-ff582b06fc06"
      },
      "execution_count": 49,
      "outputs": [
        {
          "output_type": "stream",
          "name": "stdout",
          "text": [
            "74/74 [==============================] - 0s 1ms/step - loss: 1.2706 - accuracy: 0.8699\n"
          ]
        },
        {
          "output_type": "execute_result",
          "data": {
            "text/plain": [
              "[1.2705552577972412, 0.8698979616165161]"
            ]
          },
          "metadata": {},
          "execution_count": 49
        }
      ]
    },
    {
      "cell_type": "markdown",
      "source": [
        "By lowering the learning rate a little, we improved the accuracy to 86%"
      ],
      "metadata": {
        "id": "9U0XFvShamBs"
      }
    },
    {
      "cell_type": "markdown",
      "metadata": {
        "id": "QyZA0CYLir5-"
      },
      "source": [
        "## Finding the best learning rate\n",
        "\n",
        "Aside from the architecture itself (the layers, number of neurons, activations, etc), the most important hyperparameter you can tune for your neural network models is the **learning rate**.\n",
        "\n",
        "We changed the SGD optimizer's learning rate from the default of `0.001` to `0.0009`\n",
        "\n",
        "To find the optimal learning rate we're going to use the following:\n",
        "\n",
        "* A [learning rate **callback**](https://www.tensorflow.org/api_docs/python/tf/keras/callbacks/LearningRateScheduler) - You can think of a callback as an extra piece of functionality you can add to your model *while* its training.\n",
        "\n",
        "\n",
        "> **Note:** The default hyperparameters of many neural network building blocks in TensorFlow are setup in a way which usually work best with default values for most datasets."
      ]
    },
    {
      "cell_type": "code",
      "source": [
        "# set a fixed random seed for the model's weight initialization\n",
        "tf.keras.utils.set_random_seed(42)\n",
        "\n",
        "# set model_1 to None\n",
        "model_1 = None\n",
        "\n",
        "# 1. Create the model (same as model_1 but with an extra layer)\n",
        "model_1 = tf.keras.Sequential([\n",
        "  tf.keras.layers.Dense(1), # add an extra layer\n",
        "  tf.keras.layers.Dense(1) # output layer\n",
        "])\n",
        "\n",
        "# Compile the model\n",
        "model_1.compile(loss=\"binary_crossentropy\", # we can use strings here too\n",
        "              optimizer=tf.keras.optimizers.SGD(),\n",
        "              metrics=[\"accuracy\"])\n",
        "\n",
        "# Create a learning rate scheduler callback\n",
        "# traverse a set of learning rate values starting from 1e-3, increasing by 10**(epoch/20) every epoch\n",
        "lr_scheduler = tf.keras.callbacks.LearningRateScheduler(\n",
        "    lambda epoch: 0.001 * 0.9**(epoch/3)\n",
        ")\n",
        "\n",
        "\n",
        "# Fit the model (passing the lr_scheduler callback)\n",
        "history = model_1.fit(x_train,\n",
        "                      y_train,\n",
        "                      epochs=100,\n",
        "                      verbose=0,\n",
        "                      callbacks=[lr_scheduler])\n"
      ],
      "metadata": {
        "id": "Gm9jq8mNbdS1"
      },
      "execution_count": 74,
      "outputs": []
    },
    {
      "cell_type": "code",
      "source": [
        "\n",
        "# Plot the learning rate versus the loss\n",
        "lrs = 1e-5 * (10 ** (np.arange(100)/20))\n",
        "plt.figure(figsize=(10, 7))\n",
        "plt.semilogx(lrs, history.history[\"loss\"]) # we want the x-axis (learning rate) to be log scale\n",
        "plt.xlabel(\"Learning Rate\")\n",
        "plt.ylabel(\"Loss\")\n",
        "plt.title(\"Learning rate vs. loss\");\n",
        "plt.show()"
      ],
      "metadata": {
        "colab": {
          "base_uri": "https://localhost:8080/",
          "height": 646
        },
        "id": "37PGWpf5dTcs",
        "outputId": "0938e6d9-2396-4cc9-9780-cbe0297ff9b1"
      },
      "execution_count": 73,
      "outputs": [
        {
          "output_type": "display_data",
          "data": {
            "text/plain": [
              "<Figure size 1000x700 with 1 Axes>"
            ],
            "image/png": "[encoded data removed]"
          },
          "metadata": {}
        }
      ]
    },
    {
      "cell_type": "markdown",
      "source": [
        "The ideal learning rate ends up somewhere near 0.001"
      ],
      "metadata": {
        "id": "hQZdCJo_kjZL"
      }
    },
    {
      "cell_type": "markdown",
      "source": [
        "## Activation Functions\n",
        "Read more about Activation functions here : [Activation functions explained](https://medium.com/towards-data-science/using-activation-functions-in-neural-nets-c119ad80826)"
      ],
      "metadata": {
        "id": "hLRXw2AvxiXL"
      }
    },
    {
      "cell_type": "code",
      "source": [
        "# set a fixed random seed for the model's weight initialization\n",
        "tf.keras.utils.set_random_seed(42)\n",
        "\n",
        "# set model_1 to None\n",
        "model_1 = None\n",
        "\n",
        "# 1. Create the model (same as model_1 but with an extra layer)\n",
        "model_1 = tf.keras.Sequential([\n",
        "  tf.keras.layers.Dense(1), # try activations LeakyReLU, sigmoid, Relu, tanh. Default is Linear\n",
        "  tf.keras.layers.Dense(1, activation = 'sigmoid') # output layer\n",
        "])\n",
        "\n",
        "# 2. Compile the model\n",
        "model_1.compile(loss=tf.keras.losses.BinaryCrossentropy(),\n",
        "                optimizer=tf.keras.optimizers.SGD(learning_rate=0.0009),\n",
        "                metrics=['accuracy'])\n",
        "\n",
        "# 3. Fit the model\n",
        "history = model_1.fit(x_train, y_train, epochs=50,verbose=0)\n",
        "model_1.evaluate(x_train, y_train)\n"
      ],
      "metadata": {
        "colab": {
          "base_uri": "https://localhost:8080/"
        },
        "id": "WBvWw1nXxj8i",
        "outputId": "df2cfd60-511c-4620-8b9e-c9dec1521c2e"
      },
      "execution_count": 32,
      "outputs": [
        {
          "output_type": "stream",
          "name": "stdout",
          "text": [
            "74/74 [==============================] - 0s 2ms/step - loss: 0.3708 - accuracy: 0.8605\n"
          ]
        },
        {
          "output_type": "execute_result",
          "data": {
            "text/plain": [
              "[0.3708438575267792, 0.8605442047119141]"
            ]
          },
          "metadata": {},
          "execution_count": 32
        }
      ]
    },
    {
      "cell_type": "code",
      "source": [
        "# Predict on test set and view first 3 values\n",
        "y_preds = model_1.predict(x_test)\n",
        "y_preds[:3]"
      ],
      "metadata": {
        "colab": {
          "base_uri": "https://localhost:8080/"
        },
        "id": "HQ3ufe3ammEp",
        "outputId": "a11897b2-625d-4645-a437-e4bfb95d3143"
      },
      "execution_count": 11,
      "outputs": [
        {
          "output_type": "stream",
          "name": "stdout",
          "text": [
            "19/19 [==============================] - 0s 2ms/step\n"
          ]
        },
        {
          "output_type": "execute_result",
          "data": {
            "text/plain": [
              "array([[0.18158226],\n",
              "       [0.32301155],\n",
              "       [0.15185264]], dtype=float32)"
            ]
          },
          "metadata": {},
          "execution_count": 11
        }
      ]
    },
    {
      "cell_type": "markdown",
      "source": [
        "It looks like we need to get our predictions into the binary format (0 or 1). Currently, they are prediction probabilities."
      ],
      "metadata": {
        "id": "YRQAf2JaKGad"
      }
    },
    {
      "cell_type": "code",
      "source": [
        "y_preds = tf.round(model_1.predict(x_test))\n",
        "y_preds[:3]\n",
        "#model_1.evaluate(y_test, y_preds)"
      ],
      "metadata": {
        "colab": {
          "base_uri": "https://localhost:8080/"
        },
        "id": "01e5KrGhKYs0",
        "outputId": "35388d12-098b-4540-f7fe-aafed421d5cd"
      },
      "execution_count": 14,
      "outputs": [
        {
          "output_type": "stream",
          "name": "stdout",
          "text": [
            "19/19 [==============================] - 0s 2ms/step\n"
          ]
        },
        {
          "output_type": "execute_result",
          "data": {
            "text/plain": [
              "<tf.Tensor: shape=(3, 1), dtype=float32, numpy=\n",
              "array([[0.],\n",
              "       [0.],\n",
              "       [0.]], dtype=float32)>"
            ]
          },
          "metadata": {},
          "execution_count": 14
        }
      ]
    },
    {
      "cell_type": "code",
      "source": [
        "# Evaluate the test predictions\n",
        "accuracy_score(y_test, y_preds)"
      ],
      "metadata": {
        "colab": {
          "base_uri": "https://localhost:8080/"
        },
        "id": "VFoyst9CK7qQ",
        "outputId": "91100e85-f2f5-4986-ebf0-5f260531884c"
      },
      "execution_count": 16,
      "outputs": [
        {
          "output_type": "execute_result",
          "data": {
            "text/plain": [
              "0.8503401360544217"
            ]
          },
          "metadata": {},
          "execution_count": 16
        }
      ]
    },
    {
      "cell_type": "markdown",
      "metadata": {
        "id": "0bNdy1EbftYp"
      },
      "source": [
        "## More classification evaluation methods\n",
        "\n",
        "There are a number of different evaluation metrics we can use to evaluate our classification models.\n",
        "\n",
        "| **Metric name/Evaluation method** | **Defintion** | **Code** |\n",
        "| --- | --- | --- |\n",
        "| Accuracy | Out of 100 predictions, how many does your model get correct? E.g. 95% accuracy means it gets 95/100 predictions correct. | [`sklearn.metrics.accuracy_score()`](https://scikit-learn.org/stable/modules/generated/sklearn.metrics.accuracy_score.html) or [`tf.keras.metrics.Accuracy()`](tensorflow.org/api_docs/python/tf/keras/metrics/Accuracy) |\n",
        "| Precision | Proportion of true positives over total number of samples. Higher precision leads to less false positives (model predicts 1 when it should've been 0). | [`sklearn.metrics.precision_score()`](https://scikit-learn.org/stable/modules/generated/sklearn.metrics.precision_score.html) or [`tf.keras.metrics.Precision()`](tensorflow.org/api_docs/python/tf/keras/metrics/Precision) |\n",
        "| Recall | Proportion of true positives over total number of true positives and false negatives (model predicts 0 when it should've been 1). Higher recall leads to less false negatives. | [`sklearn.metrics.recall_score()`](https://scikit-learn.org/stable/modules/generated/sklearn.metrics.recall_score.html) or [`tf.keras.metrics.Recall()`](tensorflow.org/api_docs/python/tf/keras/metrics/Recall) |\n",
        "| F1-score | Combines precision and recall into one metric. 1 is best, 0 is worst. | [`sklearn.metrics.f1_score()`](https://scikit-learn.org/stable/modules/generated/sklearn.metrics.f1_score.html) |\n",
        "| [Confusion matrix](https://www.dataschool.io/simple-guide-to-confusion-matrix-terminology/)  | Compares the predicted values with the true values in a tabular way, if 100% correct, all values in the matrix will be top left to bottom right (diagnol line). | Custom function or [`sklearn.metrics.plot_confusion_matrix()`](https://scikit-learn.org/stable/modules/generated/sklearn.metrics.plot_confusion_matrix.html) |\n",
        "| Classification report | Collection of some of the main classification metrics such as precision, recall and f1-score. | [`sklearn.metrics.classification_report()`](https://scikit-learn.org/stable/modules/generated/sklearn.metrics.classification_report.html) |\n",
        "\n"
      ]
    },
    {
      "cell_type": "markdown",
      "metadata": {
        "id": "EqaFRxFaiklC"
      },
      "source": [
        "# Plot the loss curves\n",
        "\n",
        "Looking at the plots above, we can see the outputs of our model are very good.\n",
        "\n",
        "But how did our model go whilst it was learning?\n",
        "\n",
        "As in, how did the performance change everytime the model had a chance to look at the data (once every epoch)?\n",
        "\n",
        "To figure this out, we can check the **loss curves** (also referred to as the **learning curves**).\n",
        "\n",
        "You might've seen we've been using the variable `history` when calling the `fit()` function on a model ([`fit()` returns a `History` object](https://www.tensorflow.org/api_docs/python/tf/keras/Model#fit)).\n",
        "\n",
        "This is where we'll get the information for how our model is performing as it learns.\n"
      ]
    },
    {
      "cell_type": "markdown",
      "metadata": {
        "id": "mblFGnDap48J"
      },
      "source": [
        "Inspecting the outputs, we can see the loss values going down and the accuracy going up.\n",
        "\n",
        "How's it look (visualize, visualize, visualize)?"
      ]
    },
    {
      "cell_type": "markdown",
      "metadata": {
        "id": "mofXV4znqmNh"
      },
      "source": [
        "Beautiful. This is the ideal plot we'd be looking for when dealing with a classification problem, loss going down, accuracy going up.\n",
        "\n",
        "> **Note:** The loss function going down means the model is improving (the predictions it's making are getting closer to the ground truth labels)."
      ]
    },
    {
      "cell_type": "code",
      "source": [
        "# Plot the loss curves\n",
        "pd.DataFrame(history.history).plot()\n",
        "plt.title(\"Model_1 training curves\")"
      ],
      "metadata": {
        "colab": {
          "base_uri": "https://localhost:8080/",
          "height": 469
        },
        "id": "nJ6s29pzyl2X",
        "outputId": "69f2cbc7-18fd-4097-9000-62514ebe9490"
      },
      "execution_count": 17,
      "outputs": [
        {
          "output_type": "execute_result",
          "data": {
            "text/plain": [
              "Text(0.5, 1.0, 'Model_1 training curves')"
            ]
          },
          "metadata": {},
          "execution_count": 17
        },
        {
          "output_type": "display_data",
          "data": {
            "text/plain": [
              "<Figure size 640x480 with 1 Axes>"
            ],
            "image/png": "[encoded data removed]"
          },
          "metadata": {}
        }
      ]
    }
  ],
  "metadata": {
    "colab": {
      "provenance": [],
      "collapsed_sections": [
        "eaEAE7RaPiW8",
        "L_Ehhsi0OQ8U",
        "ucRDjFFCJ92X",
        "QyZA0CYLir5-",
        "EqaFRxFaiklC"
      ]
    },
    "kernelspec": {
      "display_name": "Python 3 (ipykernel)",
      "language": "python",
      "name": "python3"
    },
    "language_info": {
      "codemirror_mode": {
        "name": "ipython",
        "version": 3
      },
      "file_extension": ".py",
      "mimetype": "text/x-python",
      "name": "python",
      "nbconvert_exporter": "python",
      "pygments_lexer": "ipython3",
      "version": "3.9.13"
    }
  },
  "nbformat": 4,
  "nbformat_minor": 0
}